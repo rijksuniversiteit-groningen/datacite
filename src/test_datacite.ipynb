{
 "cells": [
  {
   "cell_type": "code",
   "execution_count": null,
   "id": "e69dada0-a5d3-499f-85bd-f493850ac5e5",
   "metadata": {},
   "outputs": [],
   "source": [
    "# !pip install python-dotenv"
   ]
  },
  {
   "cell_type": "code",
   "execution_count": null,
   "id": "52046af2-e4b7-42c4-8804-6134d88950ad",
   "metadata": {},
   "outputs": [],
   "source": [
    "# !pip install datacite"
   ]
  },
  {
   "cell_type": "code",
   "execution_count": 1,
   "id": "13aa69fe-a681-40cf-a28c-da59f68b5b17",
   "metadata": {
    "tags": []
   },
   "outputs": [],
   "source": [
    "import datacite_app as dc\n",
    "dgui = dc.datacite_gui()"
   ]
  },
  {
   "cell_type": "code",
   "execution_count": 2,
   "id": "549cb922-5f60-442e-a35c-0d3a5bb5eed7",
   "metadata": {
    "tags": []
   },
   "outputs": [
    {
     "data": {
      "application/vnd.jupyter.widget-view+json": {
       "model_id": "b69a3681f3e14202a1374a0551ccac78",
       "version_major": 2,
       "version_minor": 0
      },
      "text/plain": [
       "AppLayout(children=(HTML(value='<h1>DOI</h1>', layout=Layout(grid_area='header', height='auto')), VBox(childre…"
      ]
     },
     "metadata": {},
     "output_type": "display_data"
    }
   ],
   "source": [
    "dgui.run_app()"
   ]
  }
 ],
 "metadata": {
  "kernelspec": {
   "display_name": "Python 3 (ipykernel)",
   "language": "python",
   "name": "python3"
  },
  "language_info": {
   "codemirror_mode": {
    "name": "ipython",
    "version": 3
   },
   "file_extension": ".py",
   "mimetype": "text/x-python",
   "name": "python",
   "nbconvert_exporter": "python",
   "pygments_lexer": "ipython3",
   "version": "3.10.8"
  }
 },
 "nbformat": 4,
 "nbformat_minor": 5
}
